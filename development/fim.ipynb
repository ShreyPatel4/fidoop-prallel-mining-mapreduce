{
 "cells": [
  {
   "cell_type": "code",
   "execution_count": 1,
   "metadata": {},
   "outputs": [],
   "source": [
    "from pyspark import SparkContext\n",
    "\n",
    "# spark context\n",
    "sc = SparkContext(\"local\", \"FIM\")\n"
   ]
  },
  {
   "cell_type": "code",
   "execution_count": 2,
   "metadata": {},
   "outputs": [
    {
     "name": "stdout",
     "output_type": "stream",
     "text": [
      "['Apple,Mango,Banana', 'Banana,Mango', 'Apple,Banana', 'Apple,Mango,Coconut', 'Strawberry,Grapes,Lemon,Raspberry', 'Rassberry,Grapes', 'Strawberry,Apple', 'Apple,Mango,Raspberry', 'Mango,Raspberry', 'Mango,Apple', 'Apple,Raspberry', 'Banana,Raspberry,Mango', 'Apple,Mango,Banana', 'Raspberry,Banana', 'Apple,Strawberry', 'Strawberry,Banana,Apple,Mango', 'Mango,Banana,Raspberry,Apple', 'Coconut,Apple,Raspberry', 'Raspberry,Coconut,Banana']\n"
     ]
    }
   ],
   "source": [
    "# Read file\n",
    "file =  sc.textFile(\"fruits.txt\")\n",
    "\n",
    "print(file.collect())"
   ]
  },
  {
   "cell_type": "code",
   "execution_count": 3,
   "metadata": {},
   "outputs": [
    {
     "name": "stdout",
     "output_type": "stream",
     "text": [
      "[['Apple', 'Mango', 'Banana'], ['Banana', 'Mango'], ['Apple', 'Banana'], ['Apple', 'Mango', 'Coconut'], ['Strawberry', 'Grapes', 'Lemon', 'Raspberry'], ['Rassberry', 'Grapes'], ['Strawberry', 'Apple'], ['Apple', 'Mango', 'Raspberry'], ['Mango', 'Raspberry'], ['Mango', 'Apple'], ['Apple', 'Raspberry'], ['Banana', 'Raspberry', 'Mango'], ['Apple', 'Mango', 'Banana'], ['Raspberry', 'Banana'], ['Apple', 'Strawberry'], ['Strawberry', 'Banana', 'Apple', 'Mango'], ['Mango', 'Banana', 'Raspberry', 'Apple'], ['Coconut', 'Apple', 'Raspberry'], ['Raspberry', 'Coconut', 'Banana']]\n"
     ]
    }
   ],
   "source": [
    "## Splited items  \n",
    "lblitems = file.map(lambda line: line.split(','))\n",
    "\n",
    "print(lblitems.collect())"
   ]
  },
  {
   "cell_type": "code",
   "execution_count": 4,
   "metadata": {},
   "outputs": [
    {
     "name": "stdout",
     "output_type": "stream",
     "text": [
      "['Apple', 'Mango', 'Banana', 'Banana', 'Mango', 'Apple', 'Banana', 'Apple', 'Mango', 'Coconut', 'Strawberry', 'Grapes', 'Lemon', 'Raspberry', 'Rassberry', 'Grapes', 'Strawberry', 'Apple', 'Apple', 'Mango', 'Raspberry', 'Mango', 'Raspberry', 'Mango', 'Apple', 'Apple', 'Raspberry', 'Banana', 'Raspberry', 'Mango', 'Apple', 'Mango', 'Banana', 'Raspberry', 'Banana', 'Apple', 'Strawberry', 'Strawberry', 'Banana', 'Apple', 'Mango', 'Mango', 'Banana', 'Raspberry', 'Apple', 'Coconut', 'Apple', 'Raspberry', 'Raspberry', 'Coconut', 'Banana']\n"
     ]
    }
   ],
   "source": [
    "## Whole lines in single array \n",
    "wlitems = file.flatMap(lambda line:line.split(','))\n",
    "\n",
    "print(wlitems.collect())"
   ]
  },
  {
   "cell_type": "code",
   "execution_count": 5,
   "metadata": {},
   "outputs": [],
   "source": [
    "uniqueItems = wlitems.distinct()\n",
    "\n",
    "# Add 1 as Tuple\n",
    "supportRdd = wlitems.map(lambda item: (item , 1))\n",
    "\n",
    "# Method for sum in reduceByKey method\n",
    "def sumOparator(x,y):\n",
    "    return x+y\n",
    "\n",
    "# Sum of values by key\n",
    "supportRdd = supportRdd.reduceByKey(sumOparator)"
   ]
  },
  {
   "cell_type": "code",
   "execution_count": 6,
   "metadata": {},
   "outputs": [],
   "source": [
    "supports = supportRdd.map(lambda item: item[1]) # Return only support values\n"
   ]
  },
  {
   "cell_type": "code",
   "execution_count": 7,
   "metadata": {},
   "outputs": [
    {
     "name": "stdout",
     "output_type": "stream",
     "text": [
      "1 . Table has crated...\n"
     ]
    }
   ],
   "source": [
    "# Define minimum support value \n",
    "minSupport = supports.min()\n",
    "\n",
    "# If mininmum support is 1 then replace it with 2 \n",
    "minSupport = 2 if minSupport == 1 else minSupport\n",
    "\n",
    "## Filter first supportRdd with minimum support \n",
    "supportRdd = supportRdd.filter(lambda item: item[1] >= minSupport )\n",
    "\n",
    "## Craete base RDD with will be updated every iteration\n",
    "baseRdd = supportRdd.map(lambda item: ([item[0]] , item[1])) \n",
    "print('1 . Table has crated...') \n",
    "\n",
    "supportRdd = supportRdd.map(lambda item: item[0])\n",
    "supportRddCart = supportRdd"
   ]
  },
  {
   "cell_type": "code",
   "execution_count": 8,
   "metadata": {},
   "outputs": [],
   "source": [
    "\n",
    "def removeReplica(record):\n",
    "\n",
    "    if(isinstance(record[0], tuple)):\n",
    "        x1 = record[0]\n",
    "        x2 = record[1]\n",
    "    else:\n",
    "        x1 = [record[0]]\n",
    "        x2 = record[1]\n",
    "\n",
    "    if(any(x == x2 for x in x1) == False):\n",
    "        a = list(x1)\n",
    "        a.append(x2)\n",
    "        a.sort()\n",
    "        result = tuple(a)\n",
    "        return result \n",
    "    else:\n",
    "        return x1"
   ]
  },
  {
   "cell_type": "code",
   "execution_count": 9,
   "metadata": {},
   "outputs": [
    {
     "name": "stdout",
     "output_type": "stream",
     "text": [
      "2 . Table has crated... \n",
      "3 . Table has crated... \n",
      "4 . Table has crated... \n"
     ]
    }
   ],
   "source": [
    "c = 2 # Combination length \n",
    "\n",
    "while(supportRdd.isEmpty() == False):\n",
    "\n",
    "    combined = supportRdd.cartesian(uniqueItems)\n",
    "    combined = combined.map(lambda item: removeReplica(item))\n",
    "  \n",
    "    combined = combined.filter(lambda item: len(item) == c)\n",
    "    combined = combined.distinct()\n",
    "\n",
    "    \n",
    "    combined_2 = combined.cartesian(lblitems)\n",
    "    combined_2 = combined_2.filter(lambda item: all(x in item[1] for x in item[0]))\n",
    "    \n",
    "    combined_2 = combined_2.map(lambda item: item[0])\n",
    "    combined_2 = combined_2.map(lambda item: (item , 1))\n",
    "    combined_2 = combined_2.reduceByKey(sumOparator)\n",
    "    combined_2 = combined_2.filter(lambda item: item[1] >= minSupport)\n",
    "\n",
    "    baseRdd = baseRdd.union(combined_2)\n",
    "    \n",
    "    combined_2 = combined_2.map(lambda item: item[0])\n",
    "    supportRdd = combined_2\n",
    "    print(c ,'. Table has crated... ')\n",
    "    c = c+1 "
   ]
  },
  {
   "cell_type": "code",
   "execution_count": 10,
   "metadata": {},
   "outputs": [
    {
     "name": "stdout",
     "output_type": "stream",
     "text": [
      "# : Aggregated support values preparing for the confidence calculatations\n",
      "# : Aggregated support values are ready !\n",
      "[[['Apple'], ['Mango'], 58.333333333333336], [['Mango'], ['Apple'], 70.0], [['Apple'], ['Banana'], 41.66666666666667], [['Apple'], ['Coconut'], 16.666666666666664], [['Banana'], ['Apple'], 55.55555555555556], [['Coconut'], ['Apple'], 66.66666666666666], [['Apple'], ['Strawberry'], 25.0], [['Apple'], ['Raspberry'], 33.33333333333333], [['Mango'], ['Banana'], 60.0], [['Banana'], ['Mango'], 66.66666666666666], [['Mango'], ['Raspberry'], 40.0], [['Strawberry'], ['Apple'], 75.0], [['Raspberry'], ['Apple'], 44.44444444444444], [['Raspberry'], ['Mango'], 44.44444444444444], [['Banana'], ['Raspberry'], 44.44444444444444], [['Raspberry'], ['Banana'], 44.44444444444444], [['Coconut'], ['Raspberry'], 66.66666666666666], [['Raspberry'], ['Coconut'], 22.22222222222222], [['Apple'], ['Mango', 'Banana'], 33.33333333333333], [['Mango'], ['Apple', 'Banana'], 40.0], [['Banana'], ['Mango', 'Apple'], 44.44444444444444], [['Apple'], ['Mango', 'Raspberry'], 16.666666666666664], [['Mango'], ['Raspberry', 'Apple'], 20.0], [['Mango'], ['Raspberry', 'Banana'], 20.0], [['Banana'], ['Mango', 'Raspberry'], 22.22222222222222], [['Raspberry'], ['Mango', 'Apple'], 22.22222222222222], [['Raspberry'], ['Mango', 'Banana'], 22.22222222222222], [['Mango', 'Apple'], ['Banana'], 57.14285714285714], [['Apple', 'Banana'], ['Mango'], 80.0], [['Mango', 'Banana'], ['Apple'], 66.66666666666666], [['Mango', 'Apple'], ['Raspberry'], 28.57142857142857], [['Raspberry', 'Apple'], ['Mango'], 50.0], [['Mango', 'Raspberry'], ['Apple'], 50.0], [['Mango', 'Banana'], ['Raspberry'], 33.33333333333333], [['Mango', 'Raspberry'], ['Banana'], 50.0], [['Raspberry', 'Banana'], ['Mango'], 50.0]]\n"
     ]
    }
   ],
   "source": [
    "class Filter():\n",
    "\n",
    "    def __init__(self):\n",
    "        \n",
    "        self.stages = 1\n",
    "\n",
    "\n",
    "    def filterForConf(self, item , total):\n",
    "        \n",
    "        if(len(item[0][0]) > len(item[1][0])  ):\n",
    "            if(self.checkItemSets(item[0][0] , item[1][0]) == False):\n",
    "                pass\n",
    "            else:\n",
    "                return (item)       \n",
    "        else:\n",
    "            pass  \n",
    "        self.stages = self.stages + 1\n",
    "\n",
    "    # Check Items sets includes at least one comman item // Example command: # any(l == k for k in z for l in x )\n",
    "    def checkItemSets(self, item_1 , item_2):\n",
    "\n",
    "        if(len(item_1) > len(item_2)):\n",
    "            return all(any(k == l for k in item_1 ) for l in item_2)\n",
    "        else:\n",
    "            return all(any(k == l for k in item_2 ) for l in item_1)\n",
    "\n",
    "\n",
    "    def calculateConfidence(self, item):\n",
    "\n",
    "        # Parent item list\n",
    "        parent = set(item[0][0])\n",
    "        \n",
    "        # Child item list\n",
    "        if(isinstance(item[1][0] , str)):\n",
    "            child  = set([item[1][0]])\n",
    "        else:\n",
    "            child  = set(item[1][0])\n",
    "        # Parent and Child support values\n",
    "        parentSupport = item[0][1]\n",
    "        childSupport = item[1][1]\n",
    "        # Finds the item set confidence is going to be found\n",
    "\n",
    "        support = (parentSupport / childSupport)*100\n",
    "\n",
    "        return list([ list(child) ,  list(parent.difference(child)) , support ])\n",
    "\n",
    "        \n",
    "# Example ((('x10', 'x3', 'x6', 'x7', 'x9'), 1), (('x10', 'x3', 'x7'), 1))\n",
    "calcuItems = baseRdd.cartesian(baseRdd)\n",
    "\n",
    "# Create Filter Object\n",
    "ff = Filter()\n",
    "\n",
    "#deneme = calcuItems.map(lambda item: lens(item)) \n",
    "total = calcuItems.count()\n",
    "\n",
    "print('# : Aggregated support values preparing for the confidence calculatations')\n",
    "baseRddConfidence = calcuItems.filter(lambda item: ff.filterForConf(item , total))\n",
    "print('# : Aggregated support values are ready !')\n",
    "baseRddConfidence = baseRddConfidence.map(lambda item: ff.calculateConfidence(item))\n",
    "\n",
    "  \n",
    "print(baseRddConfidence.collect())"
   ]
  },
  {
   "cell_type": "code",
   "execution_count": 13,
   "metadata": {},
   "outputs": [
    {
     "name": "stdout",
     "output_type": "stream",
     "text": [
      "                 Before                After  Confidence\n",
      "0               [Apple]              [Mango]   58.333333\n",
      "1               [Mango]              [Apple]   70.000000\n",
      "2               [Apple]             [Banana]   41.666667\n",
      "3               [Apple]            [Coconut]   16.666667\n",
      "4              [Banana]              [Apple]   55.555556\n",
      "5             [Coconut]              [Apple]   66.666667\n",
      "6               [Apple]         [Strawberry]   25.000000\n",
      "7               [Apple]          [Raspberry]   33.333333\n",
      "8               [Mango]             [Banana]   60.000000\n",
      "9              [Banana]              [Mango]   66.666667\n",
      "10              [Mango]          [Raspberry]   40.000000\n",
      "11         [Strawberry]              [Apple]   75.000000\n",
      "12          [Raspberry]              [Apple]   44.444444\n",
      "13          [Raspberry]              [Mango]   44.444444\n",
      "14             [Banana]          [Raspberry]   44.444444\n",
      "15          [Raspberry]             [Banana]   44.444444\n",
      "16            [Coconut]          [Raspberry]   66.666667\n",
      "17          [Raspberry]            [Coconut]   22.222222\n",
      "18              [Apple]      [Mango, Banana]   33.333333\n",
      "19              [Mango]      [Apple, Banana]   40.000000\n",
      "20             [Banana]       [Mango, Apple]   44.444444\n",
      "21              [Apple]   [Mango, Raspberry]   16.666667\n",
      "22              [Mango]   [Raspberry, Apple]   20.000000\n",
      "23              [Mango]  [Raspberry, Banana]   20.000000\n",
      "24             [Banana]   [Mango, Raspberry]   22.222222\n",
      "25          [Raspberry]       [Mango, Apple]   22.222222\n",
      "26          [Raspberry]      [Mango, Banana]   22.222222\n",
      "27       [Mango, Apple]             [Banana]   57.142857\n",
      "28      [Apple, Banana]              [Mango]   80.000000\n",
      "29      [Mango, Banana]              [Apple]   66.666667\n",
      "30       [Mango, Apple]          [Raspberry]   28.571429\n",
      "31   [Raspberry, Apple]              [Mango]   50.000000\n",
      "32   [Mango, Raspberry]              [Apple]   50.000000\n",
      "33      [Mango, Banana]          [Raspberry]   33.333333\n",
      "34   [Mango, Raspberry]             [Banana]   50.000000\n",
      "35  [Raspberry, Banana]              [Mango]   50.000000\n"
     ]
    }
   ],
   "source": [
    "## Import pandas modules\n",
    "import pandas as pd\n",
    "\n",
    "## Create an array with collected baseRddConfidence results\n",
    "result = baseRddConfidence.collect()\n",
    "\n",
    "## Create Data Frame\n",
    "confidenceTable = pd.DataFrame(data = result , columns=[\"Before\", \"After\" , \"Confidence\"])\n",
    "\n",
    "# sort confidencetable on confidence coloumn\n",
    "#confidenceTable = confidenceTable.sort_values(by=['Confidence'], ascending=False, inplace=True)\n",
    "## Show data frame\n",
    "print(confidenceTable)"
   ]
  }
 ],
 "metadata": {
  "interpreter": {
   "hash": "916dbcbb3f70747c44a77c7bcd40155683ae19c65e1c03b4aa3499c5328201f1"
  },
  "kernelspec": {
   "display_name": "Python 3.8.10 64-bit",
   "language": "python",
   "name": "python3"
  },
  "language_info": {
   "codemirror_mode": {
    "name": "ipython",
    "version": 3
   },
   "file_extension": ".py",
   "mimetype": "text/x-python",
   "name": "python",
   "nbconvert_exporter": "python",
   "pygments_lexer": "ipython3",
   "version": "3.8.10"
  },
  "orig_nbformat": 4
 },
 "nbformat": 4,
 "nbformat_minor": 2
}
